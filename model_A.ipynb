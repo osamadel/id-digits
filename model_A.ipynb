{
 "cells": [
  {
   "cell_type": "markdown",
   "metadata": {},
   "source": [
    "### Notebook for digits classifier\n",
    "\n",
    "Try different architecture to train 5000 samples of id card number's digits. This should be run on Google Colab."
   ]
  },
  {
   "cell_type": "code",
   "execution_count": null,
   "metadata": {
    "collapsed": true
   },
   "outputs": [],
   "source": [
    "import keras\n",
    "from keras.models import Sequential\n",
    "from keras.layers import Dense, Conv2D, Flatten, MaxPooling2D\n",
    "from keras.preprocessing.image import ImageDataGenerator\n",
    "import numpy as np"
   ]
  },
  {
   "cell_type": "code",
   "execution_count": null,
   "metadata": {
    "collapsed": true
   },
   "outputs": [],
   "source": [
    "classifier = Sequential()\n",
    "classifier.add(Conv2D(32, 3, strides = 1, padding='valid', input_shape=(32, 32, 3), activation='relu'))\n",
    "classifier.add(MaxPooling2D(pool_size = (2,2), strides = (2,2)))\n",
    "classifier.add(Flatten())\n",
    "classifier.add(Dense(units = 128, activation = 'relu'))\n",
    "classifier.add(Dense(units = 10, activation = 'softmax'))"
   ]
  },
  {
   "cell_type": "code",
   "execution_count": null,
   "metadata": {
    "collapsed": true
   },
   "outputs": [],
   "source": [
    "classifier.compile(optimizer = 'adam', loss='categorical_crossentropy', metrics=['accuracy'])"
   ]
  },
  {
   "cell_type": "code",
   "execution_count": null,
   "metadata": {
    "collapsed": true
   },
   "outputs": [],
   "source": [
    "train_ds = '/home/osama/Documents/datasets/id_numbers/training/'\n",
    "test_ds = '/home/osama/Documents/datasets/id_numbers/testing/'\n",
    "train_datagen = ImageDataGenerator( samplewise_center=True,\n",
    "                                    samplewise_std_normalization=True)\n",
    "test_datagen = ImageDataGenerator(  samplewise_center=True,\n",
    "                                    samplewise_std_normalization=True)\n",
    "train_set = train_datagen.flow_from_directory(train_ds, target_size=(32,32), batch_size = 100)\n",
    "test_set = test_datagen.flow_from_directory(test_ds, target_size=(32,32), batch_size = 10)"
   ]
  },
  {
   "cell_type": "code",
   "execution_count": null,
   "metadata": {
    "collapsed": true
   },
   "outputs": [],
   "source": []
  }
 ],
 "metadata": {
  "kernelspec": {
   "display_name": "Python 3",
   "language": "python",
   "name": "python3"
  },
  "language_info": {
   "codemirror_mode": {
    "name": "ipython",
    "version": 3
   },
   "file_extension": ".py",
   "mimetype": "text/x-python",
   "name": "python",
   "nbconvert_exporter": "python",
   "pygments_lexer": "ipython3",
   "version": "3.6.3"
  }
 },
 "nbformat": 4,
 "nbformat_minor": 2
}
